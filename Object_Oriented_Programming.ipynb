{
 "cells": [
  {
   "cell_type": "code",
   "execution_count": 1,
   "id": "3438f64d",
   "metadata": {},
   "outputs": [],
   "source": [
    "class student:\n",
    "    pass"
   ]
  },
  {
   "cell_type": "code",
   "execution_count": 2,
   "id": "412f4f6f",
   "metadata": {},
   "outputs": [],
   "source": [
    "std1 = student()"
   ]
  },
  {
   "cell_type": "code",
   "execution_count": 3,
   "id": "f5840334",
   "metadata": {},
   "outputs": [],
   "source": [
    "std2 = student()"
   ]
  },
  {
   "cell_type": "code",
   "execution_count": 4,
   "id": "87a7de3e",
   "metadata": {},
   "outputs": [],
   "source": [
    "std1.last = 'Kaki'"
   ]
  },
  {
   "cell_type": "code",
   "execution_count": 5,
   "id": "138aa835",
   "metadata": {},
   "outputs": [],
   "source": [
    "std1.first = 'Aditya'"
   ]
  },
  {
   "cell_type": "code",
   "execution_count": 6,
   "id": "f7183ae4",
   "metadata": {},
   "outputs": [],
   "source": [
    "std2.last = 'Ram'\n",
    "std2.first = 'Charan'"
   ]
  },
  {
   "cell_type": "code",
   "execution_count": 11,
   "id": "c09a80c5",
   "metadata": {},
   "outputs": [],
   "source": [
    "class student:\n",
    "    def __init__(self, first, last):\n",
    "        self.first = first\n",
    "        self.last = last\n",
    "    \n",
    "    def updatename(slf):\n",
    "        #slf.first = first\n",
    "        #slf.last = last\n",
    "        slf.full_name= slf.first + ' ' + slf.last\n",
    "        return (slf.full_name)\n",
    "    \n",
    "    def getname(self):\n",
    "        return self.full_name\n",
    "    \n",
    "    def grade(self):\n",
    "        pass"
   ]
  },
  {
   "cell_type": "code",
   "execution_count": 17,
   "id": "747bd7d5",
   "metadata": {},
   "outputs": [],
   "source": [
    "std1 = student('Ram', 'Charan')\n",
    "\n",
    "std2 = student('Raghu', 'chandra')"
   ]
  },
  {
   "cell_type": "code",
   "execution_count": 19,
   "id": "a9d832de",
   "metadata": {},
   "outputs": [
    {
     "name": "stdout",
     "output_type": "stream",
     "text": [
      "Ram Charan\n",
      "Raghu chandra\n",
      "From get name method :  Ram Charan\n"
     ]
    }
   ],
   "source": [
    "k = std1.updatename()\n",
    "print(k)\n",
    "print(std2.updatename())\n",
    "\n",
    "print(\"From get name method : \", std1.getname())"
   ]
  },
  {
   "cell_type": "code",
   "execution_count": 20,
   "id": "2fdd254f",
   "metadata": {},
   "outputs": [
    {
     "name": "stdout",
     "output_type": "stream",
     "text": [
      "Ram Charan\n",
      "Ram Charan\n",
      "Ram Charan\n"
     ]
    }
   ],
   "source": [
    "print(std1.getname())\n",
    "print(std1.updatename())\n",
    "print(std1.getname())"
   ]
  },
  {
   "cell_type": "code",
   "execution_count": 21,
   "id": "729aa792",
   "metadata": {},
   "outputs": [
    {
     "data": {
      "text/plain": [
       "'Ram'"
      ]
     },
     "execution_count": 21,
     "metadata": {},
     "output_type": "execute_result"
    }
   ],
   "source": [
    "std1.first"
   ]
  },
  {
   "cell_type": "code",
   "execution_count": 22,
   "id": "ccd7572f",
   "metadata": {},
   "outputs": [
    {
     "data": {
      "text/plain": [
       "'Charan'"
      ]
     },
     "execution_count": 22,
     "metadata": {},
     "output_type": "execute_result"
    }
   ],
   "source": [
    "std1.last"
   ]
  },
  {
   "cell_type": "code",
   "execution_count": 23,
   "id": "dfefe0c6",
   "metadata": {},
   "outputs": [],
   "source": [
    "std2 = student('Ram', 'charan')"
   ]
  },
  {
   "cell_type": "code",
   "execution_count": 24,
   "id": "1d80f812",
   "metadata": {},
   "outputs": [
    {
     "data": {
      "text/plain": [
       "'Ram'"
      ]
     },
     "execution_count": 24,
     "metadata": {},
     "output_type": "execute_result"
    }
   ],
   "source": [
    "std2.first"
   ]
  },
  {
   "cell_type": "code",
   "execution_count": 25,
   "id": "6e3a0d57",
   "metadata": {},
   "outputs": [
    {
     "data": {
      "text/plain": [
       "'charan'"
      ]
     },
     "execution_count": 25,
     "metadata": {},
     "output_type": "execute_result"
    }
   ],
   "source": [
    "std2.last"
   ]
  },
  {
   "cell_type": "code",
   "execution_count": 26,
   "id": "b610cb60",
   "metadata": {},
   "outputs": [
    {
     "name": "stdout",
     "output_type": "stream",
     "text": [
      "{'first': 'Ram', 'last': 'charan'}\n"
     ]
    }
   ],
   "source": [
    "print(std2.__dict__)"
   ]
  },
  {
   "cell_type": "code",
   "execution_count": 29,
   "id": "fa61dc02",
   "metadata": {},
   "outputs": [],
   "source": [
    "class temp_sensors:\n",
    "    value = 20\n",
    "    offset = 5\n",
    "    rang = [0,1]\n",
    "    threshold = 0\n",
    "    \n",
    "    def __init__(self,first=10):\n",
    "        self.first = first"
   ]
  },
  {
   "cell_type": "code",
   "execution_count": 33,
   "id": "3facaf0a",
   "metadata": {},
   "outputs": [
    {
     "name": "stdout",
     "output_type": "stream",
     "text": [
      "80 90\n"
     ]
    }
   ],
   "source": [
    "fuel_temp = temp_senssors()\n",
    "fan_temp = temp_sensors()\n",
    "\n",
    "\n",
    "fan_temp.value=80\n",
    "fuel_temp.value=90\n",
    "print(fan_temp.value, fuel_temp.value)"
   ]
  },
  {
   "cell_type": "code",
   "execution_count": 36,
   "id": "cc56f660",
   "metadata": {},
   "outputs": [
    {
     "data": {
      "text/plain": [
       "20"
      ]
     },
     "execution_count": 36,
     "metadata": {},
     "output_type": "execute_result"
    }
   ],
   "source": [
    "temp_sensors.value"
   ]
  },
  {
   "cell_type": "code",
   "execution_count": 38,
   "id": "791aeefb",
   "metadata": {},
   "outputs": [
    {
     "data": {
      "text/plain": [
       "10"
      ]
     },
     "execution_count": 38,
     "metadata": {},
     "output_type": "execute_result"
    }
   ],
   "source": [
    "fan_temp.first"
   ]
  },
  {
   "cell_type": "code",
   "execution_count": null,
   "id": "8af63659",
   "metadata": {},
   "outputs": [],
   "source": [
    "fuel_temp.first"
   ]
  },
  {
   "cell_type": "code",
   "execution_count": null,
   "id": "66d91b9b",
   "metadata": {},
   "outputs": [],
   "source": [
    "class air_senssors:\n",
    "    value = 20\n",
    "    offset = 5\n",
    "    rang = [0,500]"
   ]
  },
  {
   "cell_type": "code",
   "execution_count": null,
   "id": "9440c091",
   "metadata": {},
   "outputs": [],
   "source": [
    "abient_air = air_senssors()"
   ]
  },
  {
   "cell_type": "code",
   "execution_count": null,
   "id": "5ec2fe39",
   "metadata": {},
   "outputs": [],
   "source": [
    "abient_air.value"
   ]
  },
  {
   "cell_type": "code",
   "execution_count": 39,
   "id": "2f240dd2",
   "metadata": {},
   "outputs": [],
   "source": [
    "import datetime\n",
    "\n",
    "class employee:\n",
    "    hike_amount = 1.25\n",
    "    \n",
    "    def __init__(self, last, first, sal):\n",
    "        self.last = last\n",
    "        self.first = first\n",
    "        self.sal = sal\n",
    "        \n",
    "    def fullname(self):\n",
    "        return (self.first + ' ' + self.last)\n",
    "    \n",
    "    def getpay(self):\n",
    "        return (self.sal*employee.hike_amount)\n",
    "    \n",
    "    @classmethod\n",
    "    def set_hike_amount(cls, amt):\n",
    "        cls.hike_amount = amt\n",
    "        \n",
    "    @staticmethod\n",
    "    def is_workday(day):\n",
    "        if day.weekday() == 5 or day.weekday() == 6:\n",
    "            return False\n",
    "        return True"
   ]
  },
  {
   "cell_type": "code",
   "execution_count": 40,
   "id": "7a47c8b4",
   "metadata": {},
   "outputs": [
    {
     "data": {
      "text/plain": [
       "1.25"
      ]
     },
     "execution_count": 40,
     "metadata": {},
     "output_type": "execute_result"
    }
   ],
   "source": [
    "employee.hike_amount"
   ]
  },
  {
   "cell_type": "code",
   "execution_count": 41,
   "id": "dcfcea39",
   "metadata": {},
   "outputs": [
    {
     "name": "stdout",
     "output_type": "stream",
     "text": [
      "<__main__.employee object at 0x000002327672A7C0>\n"
     ]
    }
   ],
   "source": [
    "emp1 = employee('Aditya', 'kaki', 25000)\n",
    "emp2 = employee('Aditya1', 'kaki', 2000)\n",
    "emp3= employee('Aditya2', 'kaki', 5000)\n",
    "print(emp1)"
   ]
  },
  {
   "cell_type": "code",
   "execution_count": 42,
   "id": "b2c5b2cd",
   "metadata": {},
   "outputs": [],
   "source": [
    "employee.set_hike_amount(0.8)"
   ]
  },
  {
   "cell_type": "code",
   "execution_count": 47,
   "id": "b5fb4350",
   "metadata": {},
   "outputs": [
    {
     "name": "stdout",
     "output_type": "stream",
     "text": [
      "20\n",
      "0.8 0.8\n"
     ]
    }
   ],
   "source": [
    "emp1.hike_amount = 20\n",
    "emp1.getpay()\n",
    "print(emp1.hike_amount)\n",
    "print(emp2.hike_amount, emp3.hike_amount)"
   ]
  },
  {
   "cell_type": "code",
   "execution_count": null,
   "id": "9bfcaf5f",
   "metadata": {},
   "outputs": [],
   "source": [
    "emp2.getpay()"
   ]
  },
  {
   "cell_type": "code",
   "execution_count": 49,
   "id": "7412757b",
   "metadata": {},
   "outputs": [
    {
     "name": "stdout",
     "output_type": "stream",
     "text": [
      "{'last': 'Aditya', 'first': 'kaki', 'sal': 25000, 'hike_amount': 20}\n",
      "{'last': 'Aditya1', 'first': 'kaki', 'sal': 2000}\n"
     ]
    }
   ],
   "source": [
    "print(emp1.__dict__)\n",
    "print(emp2.__dict__)"
   ]
  },
  {
   "cell_type": "code",
   "execution_count": null,
   "id": "444dac9b",
   "metadata": {},
   "outputs": [],
   "source": [
    "print(employee.__dict__)"
   ]
  },
  {
   "cell_type": "code",
   "execution_count": null,
   "id": "c00da5a0",
   "metadata": {},
   "outputs": [],
   "source": [
    "emp1.hike_amount = 2.0"
   ]
  },
  {
   "cell_type": "code",
   "execution_count": null,
   "id": "18fac58d",
   "metadata": {},
   "outputs": [],
   "source": [
    "emp1.getpay()"
   ]
  },
  {
   "cell_type": "code",
   "execution_count": null,
   "id": "a1a60360",
   "metadata": {},
   "outputs": [],
   "source": [
    "print(emp1.__dict__)"
   ]
  },
  {
   "cell_type": "code",
   "execution_count": null,
   "id": "03a8003e",
   "metadata": {},
   "outputs": [],
   "source": [
    "emp1.hike_amount = 2.0"
   ]
  },
  {
   "cell_type": "code",
   "execution_count": null,
   "id": "d261bbc0",
   "metadata": {},
   "outputs": [],
   "source": [
    "print(emp1.__dict__)"
   ]
  },
  {
   "cell_type": "code",
   "execution_count": null,
   "id": "a13dd75c",
   "metadata": {},
   "outputs": [],
   "source": [
    "emp2 = employee('Raghava', 'ram', 25000)\n"
   ]
  },
  {
   "cell_type": "code",
   "execution_count": null,
   "id": "0b6a4498",
   "metadata": {},
   "outputs": [],
   "source": [
    "print(emp2.__dict__)"
   ]
  },
  {
   "cell_type": "code",
   "execution_count": null,
   "id": "538bf4b0",
   "metadata": {},
   "outputs": [],
   "source": [
    "mydate = datetime.date(2022, 12, 11)\n",
    "\n",
    "print(employee.is_workday(mydate))"
   ]
  },
  {
   "cell_type": "code",
   "execution_count": null,
   "id": "486a9ff4",
   "metadata": {},
   "outputs": [],
   "source": [
    "mydate.weekday()"
   ]
  },
  {
   "cell_type": "code",
   "execution_count": null,
   "id": "7dc2a3bc",
   "metadata": {},
   "outputs": [],
   "source": []
  }
 ],
 "metadata": {
  "kernelspec": {
   "display_name": "Python 3 (ipykernel)",
   "language": "python",
   "name": "python3"
  },
  "language_info": {
   "codemirror_mode": {
    "name": "ipython",
    "version": 3
   },
   "file_extension": ".py",
   "mimetype": "text/x-python",
   "name": "python",
   "nbconvert_exporter": "python",
   "pygments_lexer": "ipython3",
   "version": "3.9.12"
  }
 },
 "nbformat": 4,
 "nbformat_minor": 5
}
